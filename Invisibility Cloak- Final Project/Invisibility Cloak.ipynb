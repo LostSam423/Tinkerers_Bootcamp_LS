{
 "cells": [
  {
   "cell_type": "markdown",
   "metadata": {},
   "source": [
    "# Invisibility Cloak\n",
    "Let's get started with creating an invivibility cloak using OpenCV. Import libraries to be used."
   ]
  },
  {
   "cell_type": "code",
   "execution_count": null,
   "metadata": {},
   "outputs": [],
   "source": [
    "import cv2\n",
    "import numpy as np\n",
    "import time "
   ]
  },
  {
   "cell_type": "markdown",
   "metadata": {},
   "source": [
    "Read from the video recording."
   ]
  },
  {
   "cell_type": "code",
   "execution_count": null,
   "metadata": {},
   "outputs": [],
   "source": [
    "fourcc = cv2.VideoWriter_fourcc(*'MP4V')\n",
    "out = cv2.VideoWriter('cloak.mp4', fourcc, 20.0, (640, 480))"
   ]
  },
  {
   "cell_type": "markdown",
   "metadata": {},
   "source": [
    "Reading from the webcam."
   ]
  },
  {
   "cell_type": "code",
   "execution_count": null,
   "metadata": {},
   "outputs": [],
   "source": [
    "cap = cv2.VideoCapture(0)"
   ]
  },
  {
   "cell_type": "markdown",
   "metadata": {},
   "source": [
    "Allow the system to sleep for 3 seconds before the webcam starts and initialize variables."
   ]
  },
  {
   "cell_type": "code",
   "execution_count": null,
   "metadata": {},
   "outputs": [],
   "source": [
    "time.sleep(3)\n",
    "count = 0\n",
    "back = 0"
   ]
  },
  {
   "cell_type": "markdown",
   "metadata": {},
   "source": [
    "Capture the background in range of 60"
   ]
  },
  {
   "cell_type": "code",
   "execution_count": null,
   "metadata": {},
   "outputs": [],
   "source": [
    "for i in range(60):\n",
    "    ret, back = cap.read()\n",
    "back = np.flip(back, axis=1) ## flips the matrix along vertical axis\n"
   ]
  },
  {
   "cell_type": "markdown",
   "metadata": {},
   "source": [
    "# Loop Start\n",
    "\n",
    "Read every frame from the webcam, until the camera is open"
   ]
  },
  {
   "cell_type": "code",
   "execution_count": null,
   "metadata": {},
   "outputs": [],
   "source": [
    "while True:\n",
    "    ret, img = cap.read()\n",
    "    if not ret:\n",
    "        break\n",
    "    count += 1\n",
    "    img = np.flip(img, axis=1)\n",
    "\n",
    "    ## Color converted from BGR to HSV\n",
    "    hsv = cv2.cvtColor(img, cv2.COLOR_BGR2HSV)\n",
    "\n",
    "    ## Two masks are generated for capturing different shades of red\n",
    "    lower_red = np.array([0, 120, 50])   \n",
    "    upper_red = np.array([10, 255,255])\n",
    "    mask1 = cv2.inRange(hsv, lower_red, upper_red) ## range for the mask1 is specified\n",
    "\n",
    "    lower_red = np.array([170, 120, 70])\n",
    "    upper_red = np.array([180, 255, 255])\n",
    "    mask2 = cv2.inRange(hsv, lower_red, upper_red) ## range for the mask2 is specified\n",
    "    \n",
    "    ## both masks are added\n",
    "    mask1 = mask1 + mask2\n",
    "\n",
    "    ## MORPH_OPEN and MORPH_DILATE help to reduce the noise and dilate the frames\n",
    "    mask1 = cv2.morphologyEx(mask1, cv2.MORPH_OPEN, np.ones((3, 3), np.uint8))\n",
    "    mask1 = cv2.morphologyEx(mask1, cv2.MORPH_DILATE, np.ones((3, 3), np.uint8))\n",
    "\n",
    "    ## Inverted mask is created and overwritten on mask2\n",
    "    mask2 = cv2.bitwise_not(mask1)\n",
    "\n",
    "    ## And operator selects out the red portion i.e. cloth and mask2 removes that part (as it is inverse of red)\n",
    "    res1 = cv2.bitwise_and(img, img, mask=mask2)\n",
    "\n",
    "    ## Image is created only for the removed portion by adding the static background recorded at the start\n",
    "    res2 = cv2.bitwise_and(back, back, mask=mask1)\n",
    "\n",
    "    ## Generating the final output and writing into the image file\n",
    "    finalOutput = cv2.addWeighted(res1, 1, res2, 1, 0)\n",
    "    out.write(finalOutput)\n",
    "    cv2.imshow(\"magic\", finalOutput)\n",
    "    if cv2.waitKey(1)== 27:\n",
    "        break\n",
    "\n",
    "## Release the cap and out variables and destroy all windows\n",
    "cap.release()  \n",
    "out.release()   \n",
    "cv2.destroyAllWindows()"
   ]
  }
 ],
 "metadata": {
  "kernelspec": {
   "display_name": "Python 3",
   "language": "python",
   "name": "python3"
  },
  "language_info": {
   "codemirror_mode": {
    "name": "ipython",
    "version": 3
   },
   "file_extension": ".py",
   "mimetype": "text/x-python",
   "name": "python",
   "nbconvert_exporter": "python",
   "pygments_lexer": "ipython3",
   "version": "3.8.1"
  }
 },
 "nbformat": 4,
 "nbformat_minor": 4
}
